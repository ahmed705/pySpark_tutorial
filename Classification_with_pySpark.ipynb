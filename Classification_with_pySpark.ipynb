{
 "cells": [
  {
   "cell_type": "code",
   "execution_count": 1,
   "metadata": {},
   "outputs": [],
   "source": [
    "import findspark\n",
    "findspark.init()\n",
    "\n",
    "from pyspark.sql import SparkSession\n",
    "spark = SparkSession.builder.appName('regression').getOrCreate()"
   ]
  },
  {
   "cell_type": "code",
   "execution_count": 2,
   "metadata": {},
   "outputs": [],
   "source": [
    "df = spark.read.csv('titanic_train.csv', header=True, inferSchema=True)"
   ]
  },
  {
   "cell_type": "code",
   "execution_count": 3,
   "metadata": {},
   "outputs": [
    {
     "name": "stdout",
     "output_type": "stream",
     "text": [
      "+-----------+--------+------+--------------------+------+----+-----+-----+----------------+-------+-----+--------+\n",
      "|PassengerId|Survived|Pclass|                Name|   Sex| Age|SibSp|Parch|          Ticket|   Fare|Cabin|Embarked|\n",
      "+-----------+--------+------+--------------------+------+----+-----+-----+----------------+-------+-----+--------+\n",
      "|          1|       0|     3|Braund, Mr. Owen ...|  male|22.0|    1|    0|       A/5 21171|   7.25| null|       S|\n",
      "|          2|       1|     1|Cumings, Mrs. Joh...|female|38.0|    1|    0|        PC 17599|71.2833|  C85|       C|\n",
      "|          3|       1|     3|Heikkinen, Miss. ...|female|26.0|    0|    0|STON/O2. 3101282|  7.925| null|       S|\n",
      "|          4|       1|     1|Futrelle, Mrs. Ja...|female|35.0|    1|    0|          113803|   53.1| C123|       S|\n",
      "+-----------+--------+------+--------------------+------+----+-----+-----+----------------+-------+-----+--------+\n",
      "only showing top 4 rows\n",
      "\n"
     ]
    }
   ],
   "source": [
    "df.show(4)"
   ]
  },
  {
   "cell_type": "code",
   "execution_count": 4,
   "metadata": {},
   "outputs": [
    {
     "name": "stdout",
     "output_type": "stream",
     "text": [
      "root\n",
      " |-- PassengerId: integer (nullable = true)\n",
      " |-- Survived: integer (nullable = true)\n",
      " |-- Pclass: integer (nullable = true)\n",
      " |-- Name: string (nullable = true)\n",
      " |-- Sex: string (nullable = true)\n",
      " |-- Age: double (nullable = true)\n",
      " |-- SibSp: integer (nullable = true)\n",
      " |-- Parch: integer (nullable = true)\n",
      " |-- Ticket: string (nullable = true)\n",
      " |-- Fare: double (nullable = true)\n",
      " |-- Cabin: string (nullable = true)\n",
      " |-- Embarked: string (nullable = true)\n",
      "\n"
     ]
    }
   ],
   "source": [
    "df.printSchema()"
   ]
  },
  {
   "cell_type": "code",
   "execution_count": 5,
   "metadata": {},
   "outputs": [
    {
     "name": "stdout",
     "output_type": "stream",
     "text": [
      "Number of rows: \t 891\n",
      "Number of columns: \t 12\n"
     ]
    }
   ],
   "source": [
    "print('Number of rows: \\t', df.count())\n",
    "print('Number of columns: \\t', len(df.columns))"
   ]
  },
  {
   "cell_type": "code",
   "execution_count": 6,
   "metadata": {},
   "outputs": [
    {
     "name": "stdout",
     "output_type": "stream",
     "text": [
      "+--------+-----+\n",
      "|Survived|count|\n",
      "+--------+-----+\n",
      "|       1|  342|\n",
      "|       0|  549|\n",
      "+--------+-----+\n",
      "\n"
     ]
    }
   ],
   "source": [
    "df.groupBy('Survived').count().show()"
   ]
  },
  {
   "cell_type": "code",
   "execution_count": 7,
   "metadata": {},
   "outputs": [
    {
     "name": "stdout",
     "output_type": "stream",
     "text": [
      "+--------+------------------+------------------+\n",
      "|Survived|         avg(Fare)|          avg(Age)|\n",
      "+--------+------------------+------------------+\n",
      "|       1| 48.39540760233917|28.343689655172415|\n",
      "|       0|22.117886885245877| 30.62617924528302|\n",
      "+--------+------------------+------------------+\n",
      "\n"
     ]
    }
   ],
   "source": [
    "df.groupBy('Survived').mean('Fare', 'Age').show()"
   ]
  },
  {
   "cell_type": "code",
   "execution_count": 8,
   "metadata": {},
   "outputs": [
    {
     "name": "stdout",
     "output_type": "stream",
     "text": [
      "+--------+------+----+\n",
      "|Survived|female|male|\n",
      "+--------+------+----+\n",
      "|       1|   233| 109|\n",
      "|       0|    81| 468|\n",
      "+--------+------+----+\n",
      "\n"
     ]
    }
   ],
   "source": [
    "df.groupBy('Survived').pivot('Sex').count().show()"
   ]
  },
  {
   "cell_type": "code",
   "execution_count": 9,
   "metadata": {},
   "outputs": [
    {
     "name": "stdout",
     "output_type": "stream",
     "text": [
      "+--------+---+---+---+\n",
      "|Survived|  1|  2|  3|\n",
      "+--------+---+---+---+\n",
      "|       1|136| 87|119|\n",
      "|       0| 80| 97|372|\n",
      "+--------+---+---+---+\n",
      "\n"
     ]
    }
   ],
   "source": [
    "df.groupBy('Survived').pivot('Pclass').count().show()"
   ]
  },
  {
   "cell_type": "code",
   "execution_count": 10,
   "metadata": {},
   "outputs": [
    {
     "name": "stdout",
     "output_type": "stream",
     "text": [
      "+--------+---+---+---+---+---+----+----+\n",
      "|Survived|  0|  1|  2|  3|  4|   5|   8|\n",
      "+--------+---+---+---+---+---+----+----+\n",
      "|       1|210|112| 13|  4|  3|null|null|\n",
      "|       0|398| 97| 15| 12| 15|   5|   7|\n",
      "+--------+---+---+---+---+---+----+----+\n",
      "\n"
     ]
    }
   ],
   "source": [
    "df.groupBy('Survived').pivot('SibSp').count().show()"
   ]
  },
  {
   "cell_type": "code",
   "execution_count": 11,
   "metadata": {},
   "outputs": [
    {
     "name": "stdout",
     "output_type": "stream",
     "text": [
      "+--------+---+---+---+---+----+---+----+\n",
      "|Survived|  0|  1|  2|  3|   4|  5|   6|\n",
      "+--------+---+---+---+---+----+---+----+\n",
      "|       1|233| 65| 40|  3|null|  1|null|\n",
      "|       0|445| 53| 40|  2|   4|  4|   1|\n",
      "+--------+---+---+---+---+----+---+----+\n",
      "\n"
     ]
    }
   ],
   "source": [
    "df.groupBy('Survived').pivot('Parch').count().show()"
   ]
  },
  {
   "cell_type": "code",
   "execution_count": 12,
   "metadata": {},
   "outputs": [
    {
     "name": "stdout",
     "output_type": "stream",
     "text": [
      "+--------+----+---+---+---+\n",
      "|Survived|null|  C|  Q|  S|\n",
      "+--------+----+---+---+---+\n",
      "|       1|   2| 93| 30|217|\n",
      "|       0|null| 75| 47|427|\n",
      "+--------+----+---+---+---+\n",
      "\n"
     ]
    }
   ],
   "source": [
    "df.groupBy('Survived').pivot('Embarked').count().show()"
   ]
  },
  {
   "cell_type": "code",
   "execution_count": 13,
   "metadata": {},
   "outputs": [
    {
     "name": "stdout",
     "output_type": "stream",
     "text": [
      "PassengerId \t\t 0\n",
      "Survived \t\t 0\n",
      "Pclass \t\t 0\n",
      "Name \t\t 0\n",
      "Sex \t\t 0\n",
      "Age \t\t 177\n",
      "SibSp \t\t 0\n",
      "Parch \t\t 0\n",
      "Ticket \t\t 0\n",
      "Fare \t\t 0\n",
      "Cabin \t\t 687\n",
      "Embarked \t\t 2\n"
     ]
    }
   ],
   "source": [
    "for col in df.columns:\n",
    "    print(col, '\\t\\t', df.filter(df[col].isNull()).count())"
   ]
  },
  {
   "cell_type": "code",
   "execution_count": 14,
   "metadata": {},
   "outputs": [],
   "source": [
    "df = df.fillna({'Embarked': 'S'})"
   ]
  },
  {
   "cell_type": "code",
   "execution_count": 15,
   "metadata": {},
   "outputs": [],
   "source": [
    "df = df.withColumn('FamilySize', df['Parch'] + df['SibSp']).\\\n",
    "            drop('Parch', 'SibSp')"
   ]
  },
  {
   "cell_type": "code",
   "execution_count": null,
   "metadata": {},
   "outputs": [],
   "source": []
  },
  {
   "cell_type": "code",
   "execution_count": 16,
   "metadata": {},
   "outputs": [],
   "source": [
    "df = df.drop('PassengerID', 'Age', 'Cabin', 'Name', 'Ticket')"
   ]
  },
  {
   "cell_type": "code",
   "execution_count": 17,
   "metadata": {},
   "outputs": [
    {
     "name": "stdout",
     "output_type": "stream",
     "text": [
      "+--------+------+------+-------+--------+----------+\n",
      "|Survived|Pclass|   Sex|   Fare|Embarked|FamilySize|\n",
      "+--------+------+------+-------+--------+----------+\n",
      "|       0|     3|  male|   7.25|       S|         1|\n",
      "|       1|     1|female|71.2833|       C|         1|\n",
      "|       1|     3|female|  7.925|       S|         0|\n",
      "|       1|     1|female|   53.1|       S|         1|\n",
      "+--------+------+------+-------+--------+----------+\n",
      "only showing top 4 rows\n",
      "\n"
     ]
    }
   ],
   "source": [
    "df.show(4)"
   ]
  },
  {
   "cell_type": "code",
   "execution_count": 18,
   "metadata": {},
   "outputs": [
    {
     "name": "stdout",
     "output_type": "stream",
     "text": [
      "Survived \t\t 0\n",
      "Pclass \t\t 0\n",
      "Sex \t\t 0\n",
      "Fare \t\t 0\n",
      "Embarked \t\t 0\n",
      "FamilySize \t\t 0\n"
     ]
    }
   ],
   "source": [
    "for col in df.columns:\n",
    "    print(col, '\\t\\t', df.filter(df[col].isNull()).count())"
   ]
  },
  {
   "cell_type": "code",
   "execution_count": null,
   "metadata": {},
   "outputs": [],
   "source": []
  },
  {
   "cell_type": "code",
   "execution_count": 19,
   "metadata": {},
   "outputs": [],
   "source": [
    "from pyspark.ml.feature import StringIndexer, OneHotEncoder\n",
    "from pyspark.ml.feature import VectorAssembler\n",
    "from pyspark.ml.classification import LogisticRegression, RandomForestClassifier, GBTClassifier\n",
    "from pyspark.ml.evaluation import MulticlassClassificationEvaluator"
   ]
  },
  {
   "cell_type": "code",
   "execution_count": null,
   "metadata": {},
   "outputs": [],
   "source": []
  },
  {
   "cell_type": "code",
   "execution_count": 20,
   "metadata": {},
   "outputs": [
    {
     "name": "stdout",
     "output_type": "stream",
     "text": [
      "+--------+------+-------+----------+------+------+\n",
      "|Survived|Pclass|   Fare|FamilySize|SexNum|EmbNum|\n",
      "+--------+------+-------+----------+------+------+\n",
      "|       0|     3|   7.25|         1|   0.0|   0.0|\n",
      "|       1|     1|71.2833|         1|   1.0|   1.0|\n",
      "|       1|     3|  7.925|         0|   1.0|   0.0|\n",
      "|       1|     1|   53.1|         1|   1.0|   0.0|\n",
      "+--------+------+-------+----------+------+------+\n",
      "only showing top 4 rows\n",
      "\n"
     ]
    }
   ],
   "source": [
    "stringIndex = StringIndexer(inputCols=['Sex', 'Embarked'], \n",
    "                       outputCols=['SexNum', 'EmbNum'])\n",
    "\n",
    "stringIndex_model = stringIndex.fit(df)\n",
    "\n",
    "df = stringIndex_model.transform(df).drop('Sex', 'Embarked')\n",
    "df.show(4)"
   ]
  },
  {
   "cell_type": "code",
   "execution_count": 21,
   "metadata": {},
   "outputs": [
    {
     "name": "stdout",
     "output_type": "stream",
     "text": [
      "+-------------------------+--------+\n",
      "|features                 |Survived|\n",
      "+-------------------------+--------+\n",
      "|[3.0,7.25,1.0,0.0,0.0]   |0       |\n",
      "|[1.0,71.2833,1.0,1.0,1.0]|1       |\n",
      "|[3.0,7.925,0.0,1.0,0.0]  |1       |\n",
      "|[1.0,53.1,1.0,1.0,0.0]   |1       |\n",
      "+-------------------------+--------+\n",
      "only showing top 4 rows\n",
      "\n"
     ]
    }
   ],
   "source": [
    "vec_asmbl = VectorAssembler(inputCols=df.columns[1:], \n",
    "                           outputCol='features')\n",
    "\n",
    "df = vec_asmbl.transform(df).select('features', 'Survived')\n",
    "df.show(4, truncate=False)"
   ]
  },
  {
   "cell_type": "code",
   "execution_count": null,
   "metadata": {},
   "outputs": [],
   "source": []
  },
  {
   "cell_type": "code",
   "execution_count": 22,
   "metadata": {},
   "outputs": [],
   "source": [
    "train_df, test_df = df.randomSplit([0.7, 0.3])"
   ]
  },
  {
   "cell_type": "code",
   "execution_count": 23,
   "metadata": {},
   "outputs": [
    {
     "name": "stdout",
     "output_type": "stream",
     "text": [
      "+-------------+--------+\n",
      "|features     |Survived|\n",
      "+-------------+--------+\n",
      "|(5,[0],[1.0])|0       |\n",
      "|(5,[0],[1.0])|0       |\n",
      "|(5,[0],[2.0])|0       |\n",
      "|(5,[0],[2.0])|0       |\n",
      "+-------------+--------+\n",
      "only showing top 4 rows\n",
      "\n"
     ]
    }
   ],
   "source": [
    "train_df.show(4, truncate=False)"
   ]
  },
  {
   "cell_type": "code",
   "execution_count": null,
   "metadata": {},
   "outputs": [],
   "source": []
  },
  {
   "cell_type": "markdown",
   "metadata": {},
   "source": [
    "The regularization function is given by \n",
    "\n",
    "$$ \\alpha (\\lambda | {\\bf{w}} |_1) + (1 - \\alpha) \\left(\\frac\\lambda2 |{\\bf{w}}|_2^2 \\right) $$\n",
    "\n",
    "In spark API $\\alpha$ is eleasticNetParam and $\\lambda$ is regParam."
   ]
  },
  {
   "cell_type": "code",
   "execution_count": 24,
   "metadata": {},
   "outputs": [
    {
     "data": {
      "text/plain": [
       "0.8282442748091603"
      ]
     },
     "execution_count": 24,
     "metadata": {},
     "output_type": "execute_result"
    }
   ],
   "source": [
    "ridge = LogisticRegression(labelCol='Survived', \n",
    "                        maxIter=100, \n",
    "                        elasticNetParam=0, # Ridge regression is choosen \n",
    "                        regParam=0.3)\n",
    "\n",
    "model = ridge.fit(train_df)\n",
    "pred = model.evaluate(test_df)\n",
    "pred.accuracy"
   ]
  },
  {
   "cell_type": "code",
   "execution_count": 25,
   "metadata": {},
   "outputs": [
    {
     "data": {
      "text/plain": [
       "0.8015267175572519"
      ]
     },
     "execution_count": 25,
     "metadata": {},
     "output_type": "execute_result"
    }
   ],
   "source": [
    "lasso = LogisticRegression(labelCol='Survived', \n",
    "                           maxIter=100,\n",
    "                           elasticNetParam=1, # Lasso\n",
    "                           regParam=0.0003)\n",
    "\n",
    "model = lasso.fit(train_df)\n",
    "pred = model.evaluate(test_df)\n",
    "pred.accuracy"
   ]
  },
  {
   "cell_type": "code",
   "execution_count": null,
   "metadata": {},
   "outputs": [],
   "source": []
  },
  {
   "cell_type": "code",
   "execution_count": 26,
   "metadata": {},
   "outputs": [],
   "source": [
    "evaluator = MulticlassClassificationEvaluator(labelCol='Survived', \n",
    "                                          metricName='accuracy')"
   ]
  },
  {
   "cell_type": "code",
   "execution_count": 27,
   "metadata": {},
   "outputs": [
    {
     "data": {
      "text/plain": [
       "0.8129770992366412"
      ]
     },
     "execution_count": 27,
     "metadata": {},
     "output_type": "execute_result"
    }
   ],
   "source": [
    "rf = RandomForestClassifier(labelCol='Survived', \n",
    "                           numTrees=100, maxDepth=3)\n",
    "\n",
    "model = rf.fit(train_df)\n",
    "pred = model.transform(test_df)\n",
    "evaluator.evaluate(pred)"
   ]
  },
  {
   "cell_type": "code",
   "execution_count": 28,
   "metadata": {},
   "outputs": [
    {
     "data": {
      "text/plain": [
       "0.851145038167939"
      ]
     },
     "execution_count": 28,
     "metadata": {},
     "output_type": "execute_result"
    }
   ],
   "source": [
    "gb = GBTClassifier(labelCol='Survived', maxIter=100, maxDepth=4)\n",
    "\n",
    "model = gb.fit(train_df)\n",
    "pred = model.transform(test_df)\n",
    "evaluator.evaluate(pred)"
   ]
  },
  {
   "cell_type": "code",
   "execution_count": null,
   "metadata": {},
   "outputs": [],
   "source": []
  },
  {
   "cell_type": "code",
   "execution_count": null,
   "metadata": {},
   "outputs": [],
   "source": []
  },
  {
   "cell_type": "code",
   "execution_count": null,
   "metadata": {},
   "outputs": [],
   "source": []
  }
 ],
 "metadata": {
  "kernelspec": {
   "display_name": "Python 3",
   "language": "python",
   "name": "python3"
  },
  "language_info": {
   "codemirror_mode": {
    "name": "ipython",
    "version": 3
   },
   "file_extension": ".py",
   "mimetype": "text/x-python",
   "name": "python",
   "nbconvert_exporter": "python",
   "pygments_lexer": "ipython3",
   "version": "3.7.7"
  }
 },
 "nbformat": 4,
 "nbformat_minor": 4
}
